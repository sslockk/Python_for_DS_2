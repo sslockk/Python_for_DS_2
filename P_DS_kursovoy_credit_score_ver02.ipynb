{
 "cells": [
  {
   "cell_type": "code",
   "execution_count": 1,
   "metadata": {},
   "outputs": [],
   "source": [
    "import numpy as np\n",
    "import pandas as pd\n",
    "\n",
    "from scipy.stats import shapiro\n",
    "from scipy.stats import probplot\n",
    "from scipy.stats import ttest_ind, mannwhitneyu\n",
    "from scipy.stats import chi2_contingency\n",
    "from statsmodels.stats.weightstats import zconfint\n",
    "\n",
    "import seaborn as sns\n",
    "from matplotlib import pyplot as plt\n",
    "\n",
    "import pickle\n",
    "import random\n",
    "\n",
    "from sklearn.preprocessing import StandardScaler, MinMaxScaler, OneHotEncoder, LabelEncoder, LabelBinarizer\n",
    "from sklearn.model_selection import train_test_split, ShuffleSplit, cross_val_score, learning_curve\n",
    "from sklearn.model_selection import KFold, GridSearchCV, RandomizedSearchCV\n",
    "from sklearn.metrics import classification_report, f1_score, precision_score, recall_score\n",
    "\n",
    "from sklearn.linear_model import LogisticRegression\n",
    "from sklearn.neighbors import KNeighborsClassifier\n",
    "import xgboost as xgb, lightgbm as lgbm, catboost as catb\n",
    "\n",
    "import seaborn as sns\n",
    "from matplotlib import pyplot as plt\n",
    "%matplotlib inline\n",
    "\n",
    "\n",
    "%matplotlib inline"
   ]
  },
  {
   "cell_type": "code",
   "execution_count": 2,
   "metadata": {},
   "outputs": [],
   "source": [
    "import warnings\n",
    "warnings.simplefilter('ignore')"
   ]
  },
  {
   "cell_type": "markdown",
   "metadata": {},
   "source": [
    "**Пути к директориям и файлам**"
   ]
  },
  {
   "cell_type": "code",
   "execution_count": 3,
   "metadata": {},
   "outputs": [],
   "source": [
    "TRAIN_DATASET_PATH = 'data/course_project_train.csv'\n",
    "TEST_DATASET_PATH = 'data/course_project_test.csv'"
   ]
  },
  {
   "cell_type": "markdown",
   "metadata": {},
   "source": [
    "**Описание датасета**\n",
    "\n",
    "* **Home Ownership** - домовладение\n",
    "* **Annual Income** - годовой доход\n",
    "* **Years in current job** - количество лет на текущем месте работы\n",
    "* **Tax Liens** - налоговые льготы\n",
    "* **Number of Open Accounts** - количество открытых счетов\n",
    "* **Years of Credit History** - количество лет кредитной истории\n",
    "* **Maximum Open Credit** - наибольший открытый кредит\n",
    "* **Number of Credit Problems** - количество проблем с кредитом\n",
    "* **Months since last delinquent** - количество месяцев с последней просрочки платежа\n",
    "* **Bankruptcies** - банкротства\n",
    "* **Purpose** - цель кредита\n",
    "* **Term** - срок кредита\n",
    "* **Current Loan Amount** - текущая сумма кредита\n",
    "* **Current Credit Balance** - текущий кредитный баланс\n",
    "* **Monthly Debt** - ежемесячный долг\n",
    "* **Credit Default** - факт невыполнения кредитных обязательств (0 - погашен вовремя, 1 - просрочка)"
   ]
  },
  {
   "cell_type": "code",
   "execution_count": 4,
   "metadata": {
    "scrolled": true
   },
   "outputs": [
    {
     "data": {
      "text/html": [
       "<div>\n",
       "<style scoped>\n",
       "    .dataframe tbody tr th:only-of-type {\n",
       "        vertical-align: middle;\n",
       "    }\n",
       "\n",
       "    .dataframe tbody tr th {\n",
       "        vertical-align: top;\n",
       "    }\n",
       "\n",
       "    .dataframe thead th {\n",
       "        text-align: right;\n",
       "    }\n",
       "</style>\n",
       "<table border=\"1\" class=\"dataframe\">\n",
       "  <thead>\n",
       "    <tr style=\"text-align: right;\">\n",
       "      <th></th>\n",
       "      <th>Home Ownership</th>\n",
       "      <th>Annual Income</th>\n",
       "      <th>Years in current job</th>\n",
       "      <th>Tax Liens</th>\n",
       "      <th>Number of Open Accounts</th>\n",
       "      <th>Years of Credit History</th>\n",
       "      <th>Maximum Open Credit</th>\n",
       "      <th>Number of Credit Problems</th>\n",
       "      <th>Months since last delinquent</th>\n",
       "      <th>Bankruptcies</th>\n",
       "      <th>Purpose</th>\n",
       "      <th>Term</th>\n",
       "      <th>Current Loan Amount</th>\n",
       "      <th>Current Credit Balance</th>\n",
       "      <th>Monthly Debt</th>\n",
       "      <th>Credit Score</th>\n",
       "      <th>Credit Default</th>\n",
       "    </tr>\n",
       "  </thead>\n",
       "  <tbody>\n",
       "    <tr>\n",
       "      <th>0</th>\n",
       "      <td>Own Home</td>\n",
       "      <td>482087.0</td>\n",
       "      <td>NaN</td>\n",
       "      <td>0.0</td>\n",
       "      <td>11.0</td>\n",
       "      <td>26.3</td>\n",
       "      <td>685960.0</td>\n",
       "      <td>1.0</td>\n",
       "      <td>NaN</td>\n",
       "      <td>1.0</td>\n",
       "      <td>debt consolidation</td>\n",
       "      <td>Short Term</td>\n",
       "      <td>99999999.0</td>\n",
       "      <td>47386.0</td>\n",
       "      <td>7914.0</td>\n",
       "      <td>749.0</td>\n",
       "      <td>0</td>\n",
       "    </tr>\n",
       "    <tr>\n",
       "      <th>1</th>\n",
       "      <td>Own Home</td>\n",
       "      <td>1025487.0</td>\n",
       "      <td>10+ years</td>\n",
       "      <td>0.0</td>\n",
       "      <td>15.0</td>\n",
       "      <td>15.3</td>\n",
       "      <td>1181730.0</td>\n",
       "      <td>0.0</td>\n",
       "      <td>NaN</td>\n",
       "      <td>0.0</td>\n",
       "      <td>debt consolidation</td>\n",
       "      <td>Long Term</td>\n",
       "      <td>264968.0</td>\n",
       "      <td>394972.0</td>\n",
       "      <td>18373.0</td>\n",
       "      <td>737.0</td>\n",
       "      <td>1</td>\n",
       "    </tr>\n",
       "    <tr>\n",
       "      <th>2</th>\n",
       "      <td>Home Mortgage</td>\n",
       "      <td>751412.0</td>\n",
       "      <td>8 years</td>\n",
       "      <td>0.0</td>\n",
       "      <td>11.0</td>\n",
       "      <td>35.0</td>\n",
       "      <td>1182434.0</td>\n",
       "      <td>0.0</td>\n",
       "      <td>NaN</td>\n",
       "      <td>0.0</td>\n",
       "      <td>debt consolidation</td>\n",
       "      <td>Short Term</td>\n",
       "      <td>99999999.0</td>\n",
       "      <td>308389.0</td>\n",
       "      <td>13651.0</td>\n",
       "      <td>742.0</td>\n",
       "      <td>0</td>\n",
       "    </tr>\n",
       "    <tr>\n",
       "      <th>3</th>\n",
       "      <td>Own Home</td>\n",
       "      <td>805068.0</td>\n",
       "      <td>6 years</td>\n",
       "      <td>0.0</td>\n",
       "      <td>8.0</td>\n",
       "      <td>22.5</td>\n",
       "      <td>147400.0</td>\n",
       "      <td>1.0</td>\n",
       "      <td>NaN</td>\n",
       "      <td>1.0</td>\n",
       "      <td>debt consolidation</td>\n",
       "      <td>Short Term</td>\n",
       "      <td>121396.0</td>\n",
       "      <td>95855.0</td>\n",
       "      <td>11338.0</td>\n",
       "      <td>694.0</td>\n",
       "      <td>0</td>\n",
       "    </tr>\n",
       "    <tr>\n",
       "      <th>4</th>\n",
       "      <td>Rent</td>\n",
       "      <td>776264.0</td>\n",
       "      <td>8 years</td>\n",
       "      <td>0.0</td>\n",
       "      <td>13.0</td>\n",
       "      <td>13.6</td>\n",
       "      <td>385836.0</td>\n",
       "      <td>1.0</td>\n",
       "      <td>NaN</td>\n",
       "      <td>0.0</td>\n",
       "      <td>debt consolidation</td>\n",
       "      <td>Short Term</td>\n",
       "      <td>125840.0</td>\n",
       "      <td>93309.0</td>\n",
       "      <td>7180.0</td>\n",
       "      <td>719.0</td>\n",
       "      <td>0</td>\n",
       "    </tr>\n",
       "  </tbody>\n",
       "</table>\n",
       "</div>"
      ],
      "text/plain": [
       "  Home Ownership  Annual Income Years in current job  Tax Liens  \\\n",
       "0       Own Home       482087.0                  NaN        0.0   \n",
       "1       Own Home      1025487.0            10+ years        0.0   \n",
       "2  Home Mortgage       751412.0              8 years        0.0   \n",
       "3       Own Home       805068.0              6 years        0.0   \n",
       "4           Rent       776264.0              8 years        0.0   \n",
       "\n",
       "   Number of Open Accounts  Years of Credit History  Maximum Open Credit  \\\n",
       "0                     11.0                     26.3             685960.0   \n",
       "1                     15.0                     15.3            1181730.0   \n",
       "2                     11.0                     35.0            1182434.0   \n",
       "3                      8.0                     22.5             147400.0   \n",
       "4                     13.0                     13.6             385836.0   \n",
       "\n",
       "   Number of Credit Problems  Months since last delinquent  Bankruptcies  \\\n",
       "0                        1.0                           NaN           1.0   \n",
       "1                        0.0                           NaN           0.0   \n",
       "2                        0.0                           NaN           0.0   \n",
       "3                        1.0                           NaN           1.0   \n",
       "4                        1.0                           NaN           0.0   \n",
       "\n",
       "              Purpose        Term  Current Loan Amount  \\\n",
       "0  debt consolidation  Short Term           99999999.0   \n",
       "1  debt consolidation   Long Term             264968.0   \n",
       "2  debt consolidation  Short Term           99999999.0   \n",
       "3  debt consolidation  Short Term             121396.0   \n",
       "4  debt consolidation  Short Term             125840.0   \n",
       "\n",
       "   Current Credit Balance  Monthly Debt  Credit Score  Credit Default  \n",
       "0                 47386.0        7914.0         749.0               0  \n",
       "1                394972.0       18373.0         737.0               1  \n",
       "2                308389.0       13651.0         742.0               0  \n",
       "3                 95855.0       11338.0         694.0               0  \n",
       "4                 93309.0        7180.0         719.0               0  "
      ]
     },
     "execution_count": 4,
     "metadata": {},
     "output_type": "execute_result"
    }
   ],
   "source": [
    "df = pd.read_csv(TRAIN_DATASET_PATH)\n",
    "df_test = pd.read_csv(TEST_DATASET_PATH)\n",
    "\n",
    "df.head()"
   ]
  },
  {
   "cell_type": "markdown",
   "metadata": {},
   "source": [
    "**Выделение целевой переменной и групп признаков**"
   ]
  },
  {
   "cell_type": "code",
   "execution_count": 5,
   "metadata": {},
   "outputs": [],
   "source": [
    "TARGET_NAME = 'Credit Default'\n",
    "BASE_FEATURE_NAMES = df.columns.drop(TARGET_NAME).tolist()\n",
    "NEW_FEATURE_NAMES = df.columns.drop([TARGET_NAME] + BASE_FEATURE_NAMES)"
   ]
  },
  {
   "cell_type": "markdown",
   "metadata": {},
   "source": [
    "### PreProcessing"
   ]
  },
  {
   "cell_type": "markdown",
   "metadata": {},
   "source": [
    "### Заполнение пропущенных признаков"
   ]
  },
  {
   "cell_type": "code",
   "execution_count": 6,
   "metadata": {
    "scrolled": false
   },
   "outputs": [
    {
     "name": "stdout",
     "output_type": "stream",
     "text": [
      "<class 'pandas.core.frame.DataFrame'>\n",
      "RangeIndex: 2500 entries, 0 to 2499\n",
      "Data columns (total 16 columns):\n",
      "Home Ownership                  2500 non-null object\n",
      "Annual Income                   1987 non-null float64\n",
      "Years in current job            2414 non-null object\n",
      "Tax Liens                       2500 non-null float64\n",
      "Number of Open Accounts         2500 non-null float64\n",
      "Years of Credit History         2500 non-null float64\n",
      "Maximum Open Credit             2500 non-null float64\n",
      "Number of Credit Problems       2500 non-null float64\n",
      "Months since last delinquent    1142 non-null float64\n",
      "Bankruptcies                    2497 non-null float64\n",
      "Purpose                         2500 non-null object\n",
      "Term                            2500 non-null object\n",
      "Current Loan Amount             2500 non-null float64\n",
      "Current Credit Balance          2500 non-null float64\n",
      "Monthly Debt                    2500 non-null float64\n",
      "Credit Score                    1987 non-null float64\n",
      "dtypes: float64(12), object(4)\n",
      "memory usage: 312.6+ KB\n"
     ]
    }
   ],
   "source": [
    "df_test.info()"
   ]
  },
  {
   "cell_type": "code",
   "execution_count": 7,
   "metadata": {
    "scrolled": false
   },
   "outputs": [
    {
     "name": "stdout",
     "output_type": "stream",
     "text": [
      "<class 'pandas.core.frame.DataFrame'>\n",
      "RangeIndex: 7500 entries, 0 to 7499\n",
      "Data columns (total 17 columns):\n",
      "Home Ownership                  7500 non-null object\n",
      "Annual Income                   5943 non-null float64\n",
      "Years in current job            7129 non-null object\n",
      "Tax Liens                       7500 non-null float64\n",
      "Number of Open Accounts         7500 non-null float64\n",
      "Years of Credit History         7500 non-null float64\n",
      "Maximum Open Credit             7500 non-null float64\n",
      "Number of Credit Problems       7500 non-null float64\n",
      "Months since last delinquent    3419 non-null float64\n",
      "Bankruptcies                    7486 non-null float64\n",
      "Purpose                         7500 non-null object\n",
      "Term                            7500 non-null object\n",
      "Current Loan Amount             7500 non-null float64\n",
      "Current Credit Balance          7500 non-null float64\n",
      "Monthly Debt                    7500 non-null float64\n",
      "Credit Score                    5943 non-null float64\n",
      "Credit Default                  7500 non-null int64\n",
      "dtypes: float64(12), int64(1), object(4)\n",
      "memory usage: 996.2+ KB\n"
     ]
    }
   ],
   "source": [
    "df.info()"
   ]
  },
  {
   "cell_type": "code",
   "execution_count": 8,
   "metadata": {},
   "outputs": [],
   "source": [
    "# \"Credit Score\"\n",
    "def credit_score(df, cs_median):\n",
    "    df.loc[df['Credit Score'].isnull() == True]\n",
    "    df['Credit Score'].unique()\n",
    "    df['Credit Score'] = df['Credit Score'].fillna(cs_median)\n",
    "    return df\n",
    "cs_median = df.loc[df['Credit Score'].isnull() == False, 'Credit Score'].unique().mean().round(1)\n",
    "df = credit_score(df, cs_median)\n",
    "df_test = credit_score(df_test, cs_median)\n"
   ]
  },
  {
   "cell_type": "code",
   "execution_count": 9,
   "metadata": {},
   "outputs": [],
   "source": [
    "# \"Bankruptcies\"\n",
    "def bankruptcies(df):\n",
    "    df.loc[df['Bankruptcies'].isnull() == True]\n",
    "    df['Bankruptcies'].unique()\n",
    "    df['Bankruptcies'] = df['Bankruptcies'].fillna(1)\n",
    "    return df\n",
    "df = bankruptcies(df)\n",
    "df_test = bankruptcies(df_test)"
   ]
  },
  {
   "cell_type": "code",
   "execution_count": 10,
   "metadata": {},
   "outputs": [],
   "source": [
    "# \"Annual Income\"\n",
    "def annual_income(df, ai_median):\n",
    "    df['Annual Income'] = df['Annual Income'].fillna(ai_median)\n",
    "    return df\n",
    "ai_median = df.loc[(df['Annual Income'].isnull() == False), 'Annual Income'].mean()\n",
    "\n",
    "# df = annual_income(df, ai_median)\n",
    "df_test = annual_income(df_test, ai_median)"
   ]
  },
  {
   "cell_type": "code",
   "execution_count": 11,
   "metadata": {},
   "outputs": [],
   "source": [
    "# \"Years in current job\"\n",
    "def year_job(df):\n",
    "    df.loc[df['Years in current job'].isnull() == False, 'Years in current job'].value_counts()\n",
    "    job_median = '10+ years'\n",
    "    df['Years in current job'] = df['Years in current job'].fillna(job_median)\n",
    "    return df\n",
    "df = year_job(df)\n",
    "df_test = year_job(df_test)"
   ]
  },
  {
   "cell_type": "code",
   "execution_count": 12,
   "metadata": {},
   "outputs": [],
   "source": [
    "# Удалим признак у которого половина значений пропущена\n",
    "df.drop(columns=['Months since last delinquent'], inplace=True, axis=1)\n",
    "df_test.drop(columns=['Months since last delinquent'], inplace=True, axis=1)"
   ]
  },
  {
   "cell_type": "markdown",
   "metadata": {},
   "source": [
    "### Categorical Variables"
   ]
  },
  {
   "cell_type": "code",
   "execution_count": 13,
   "metadata": {},
   "outputs": [],
   "source": [
    "# Само значение 9999999, заменим на значение из \"текущего кредитный баланс\"\n",
    "def cla_categolial(df):\n",
    "    df['CLA_categolial'] = 0\n",
    "    df.loc[df['Current Loan Amount'] == 99999999, 'CLA_categolial'] = 1\n",
    "    df.loc[df['Current Loan Amount'] == 99999999, 'Current Loan Amount'] =\\\n",
    "    df.loc[df['Current Loan Amount'] == 99999999, 'Current Credit Balance']\n",
    "    return df\n",
    "df = cla_categolial(df)\n",
    "df_test = cla_categolial(df_test)"
   ]
  },
  {
   "cell_type": "code",
   "execution_count": 14,
   "metadata": {},
   "outputs": [],
   "source": [
    "# Конвертируем стаж работы в числовые\n",
    "\n",
    "unique_items = df['Term'].unique().tolist()\n",
    "unique_num = [0, 1]\n",
    "years_dict = dict(zip(unique_items, unique_num))\n",
    "df['Term'] = df['Term'].map(years_dict)\n",
    "df_test['Term'] = df_test['Term'].map(years_dict).astype(int)"
   ]
  },
  {
   "cell_type": "code",
   "execution_count": 15,
   "metadata": {
    "scrolled": true
   },
   "outputs": [],
   "source": [
    "# Конвертируем стаж работы\n",
    "\n",
    "years_job = df['Years in current job']\n",
    "encoder = LabelBinarizer()\n",
    "new_years_job = encoder.fit_transform(years_job)\n",
    "tmp = pd.DataFrame(new_years_job)\n",
    "tmp_col = ['Years in current job_'+str(i) for i in tmp.columns]\n",
    "tmp.columns = tmp_col\n",
    "df = pd.concat([df, tmp], axis=1)\n",
    "df.drop(columns=['Years in current job'], inplace=True, axis=1)\n",
    "\n",
    "tmp_test = pd.DataFrame(encoder.transform(df_test['Years in current job']), columns=tmp_col)\n",
    "df_test = pd.concat([df_test, tmp_test], axis=1)\n",
    "df_test.drop(columns=['Years in current job'], inplace=True, axis=1)"
   ]
  },
  {
   "cell_type": "code",
   "execution_count": 16,
   "metadata": {
    "scrolled": true
   },
   "outputs": [],
   "source": [
    "# Конвертируем Цель кредита\n",
    "\n",
    "purpose_job = df['Purpose']\n",
    "encoder_p = LabelBinarizer()\n",
    "new_years_job = encoder_p.fit_transform(purpose_job)\n",
    "tmp = pd.DataFrame(new_years_job)\n",
    "tmp_col = ['Purpose_'+str(i) for i in tmp.columns]\n",
    "tmp.columns = tmp_col\n",
    "df = pd.concat([df, tmp], axis=1)\n",
    "df.drop(columns=['Purpose'], inplace=True, axis=1)\n",
    "\n",
    "tmp_test = pd.DataFrame(encoder_p.transform(df_test['Purpose']), columns=tmp_col)\n",
    "df_test = pd.concat([df_test, tmp_test], axis=1)\n",
    "df_test.drop(columns=['Purpose'], inplace=True, axis=1)"
   ]
  },
  {
   "cell_type": "code",
   "execution_count": 17,
   "metadata": {
    "scrolled": true
   },
   "outputs": [],
   "source": [
    "# Конвертируем Домовладение \"Home Ownership\"\n",
    "\n",
    "purpose_job = df['Home Ownership']\n",
    "encoder_h = LabelBinarizer()\n",
    "new_years_job = encoder_h.fit_transform(purpose_job)\n",
    "tmp = pd.DataFrame(new_years_job)\n",
    "tmp_col = ['Home Ownership_'+str(i) for i in tmp.columns]\n",
    "tmp.columns = tmp_col\n",
    "df = pd.concat([df, tmp], axis=1)\n",
    "df.drop(columns=['Home Ownership'], inplace=True, axis=1)\n",
    "\n",
    "tmp_test = pd.DataFrame(encoder_h.transform(df_test['Home Ownership']), columns=tmp_col)\n",
    "df_test = pd.concat([df_test, tmp_test], axis=1)\n",
    "df_test.drop(columns=['Home Ownership'], inplace=True, axis=1)"
   ]
  },
  {
   "cell_type": "code",
   "execution_count": 18,
   "metadata": {},
   "outputs": [
    {
     "data": {
      "text/plain": [
       "True"
      ]
     },
     "execution_count": 18,
     "metadata": {},
     "output_type": "execute_result"
    }
   ],
   "source": [
    "len(df.drop(columns=TARGET_NAME).columns) == len(df_test.columns)"
   ]
  },
  {
   "cell_type": "code",
   "execution_count": 19,
   "metadata": {},
   "outputs": [],
   "source": [
    "# # Удаляем пропущенные значения для балансировки классов\n",
    "# df_short = df.loc[df['Annual Income'].isnull()  == True]\n",
    "# df_short.index\n",
    "# df.drop(index=df_short.index, inplace=True)\n",
    "# df = df.reset_index()"
   ]
  },
  {
   "cell_type": "code",
   "execution_count": 20,
   "metadata": {},
   "outputs": [],
   "source": [
    "# Удаляем пропущенные значения для балансировки классов\n",
    "df_short = df.loc[(df['Annual Income'].isnull()  == True) & (df[TARGET_NAME] == 0)]\n",
    "df.drop(index=df_short.index, inplace=True)\n",
    "df = annual_income(df, ai_median)\n",
    "df = df.reset_index()"
   ]
  },
  {
   "cell_type": "markdown",
   "metadata": {},
   "source": [
    "### Models"
   ]
  },
  {
   "cell_type": "code",
   "execution_count": 21,
   "metadata": {},
   "outputs": [],
   "source": [
    "# a = df.select_dtypes(include='object').columns.tolist()\n",
    "# b = df.columns.tolist()\n",
    "# NUMERIC_FEATURE_NAMES = list(set(b).difference(a))\n",
    "# # NUMERIC_FEATURE_NAMES = temp_columns"
   ]
  },
  {
   "cell_type": "code",
   "execution_count": 22,
   "metadata": {
    "scrolled": false
   },
   "outputs": [],
   "source": [
    "# df.info()"
   ]
  },
  {
   "cell_type": "markdown",
   "metadata": {},
   "source": [
    "### Нормализация данных<a class=\"anchor\" id=\"normalization\"></a>"
   ]
  },
  {
   "cell_type": "code",
   "execution_count": 23,
   "metadata": {
    "scrolled": true
   },
   "outputs": [],
   "source": [
    "# Нормализация числовых признаков\n",
    "scaler = StandardScaler()\n",
    "\n",
    "df_norm_col = df.drop(columns=TARGET_NAME).columns\n",
    "df_norm = scaler.fit_transform(df[df_norm_col])\n",
    "\n",
    "df[df_norm_col] = pd.DataFrame(df_norm, columns=df_norm_col)\n",
    "\n",
    "df_norm_test_col = df_test.columns\n",
    "df_test[df_norm_test_col] = pd.DataFrame(scaler.fit_transform(df_test[df_norm_test_col]), columns=df_norm_test_col)\n"
   ]
  },
  {
   "cell_type": "code",
   "execution_count": 24,
   "metadata": {
    "scrolled": true
   },
   "outputs": [],
   "source": [
    "# df.loc[df['Annual Income'].isnull()  == True]"
   ]
  },
  {
   "cell_type": "code",
   "execution_count": 25,
   "metadata": {
    "scrolled": true
   },
   "outputs": [
    {
     "data": {
      "text/plain": [
       "0    4359\n",
       "1    2113\n",
       "Name: Credit Default, dtype: int64"
      ]
     },
     "execution_count": 25,
     "metadata": {},
     "output_type": "execute_result"
    }
   ],
   "source": [
    "df[TARGET_NAME].value_counts()"
   ]
  },
  {
   "cell_type": "markdown",
   "metadata": {},
   "source": [
    "### Разбиение на train и test<a class=\"anchor\" id=\"train_and_test\"></a>"
   ]
  },
  {
   "cell_type": "code",
   "execution_count": 26,
   "metadata": {},
   "outputs": [],
   "source": [
    "df = df.drop(columns=['index'])"
   ]
  },
  {
   "cell_type": "code",
   "execution_count": 27,
   "metadata": {},
   "outputs": [],
   "source": [
    "def get_classification_report(y_train_true, y_train_pred, y_test_true, y_test_pred):\n",
    "    print('TRAIN\\n\\n' + classification_report(y_train_true, y_train_pred))\n",
    "    print('TEST\\n\\n' + classification_report(y_test_true, y_test_pred))\n",
    "    print('CONFUSION MATRIX\\n')\n",
    "    print(pd.crosstab(y_test_true, y_test_pred))"
   ]
  },
  {
   "cell_type": "code",
   "execution_count": 28,
   "metadata": {},
   "outputs": [],
   "source": [
    "X = df.drop(columns=TARGET_NAME)\n",
    "y = df[TARGET_NAME]\n",
    "\n",
    "X_train, X_test, y_train, y_test = train_test_split(X, y, shuffle=True, test_size=0.24, random_state=21)"
   ]
  },
  {
   "cell_type": "markdown",
   "metadata": {},
   "source": [
    "### Балансировка целевой переменной<a class=\"anchor\" id=\"target_balancing\"></a>"
   ]
  },
  {
   "cell_type": "code",
   "execution_count": 29,
   "metadata": {},
   "outputs": [],
   "source": [
    "def balance_df_by_target(df, target_name):\n",
    "\n",
    "    target_counts = df[target_name].value_counts()\n",
    "\n",
    "    major_class_name = target_counts.argmax()\n",
    "    minor_class_name = target_counts.argmin()\n",
    "\n",
    "    disbalance_coeff = int(target_counts[major_class_name] / target_counts[minor_class_name]) - 1\n",
    "\n",
    "    for i in range(disbalance_coeff):\n",
    "        sample = df[df[target_name] == minor_class_name].sample(target_counts[minor_class_name])\n",
    "        df = df.append(sample, ignore_index=True)\n",
    "\n",
    "    return df.sample(frac=1) "
   ]
  },
  {
   "cell_type": "code",
   "execution_count": 30,
   "metadata": {
    "scrolled": false
   },
   "outputs": [
    {
     "data": {
      "text/plain": [
       "0    3294\n",
       "1    3248\n",
       "Name: Credit Default, dtype: int64"
      ]
     },
     "execution_count": 30,
     "metadata": {},
     "output_type": "execute_result"
    }
   ],
   "source": [
    "df_for_balancing = pd.concat([X_train, y_train], axis=1)\n",
    "df_balanced = balance_df_by_target(df_for_balancing, TARGET_NAME)\n",
    "    \n",
    "df_balanced[TARGET_NAME].value_counts()"
   ]
  },
  {
   "cell_type": "code",
   "execution_count": 31,
   "metadata": {},
   "outputs": [],
   "source": [
    "X = df_balanced.drop(columns=TARGET_NAME)\n",
    "y = df_balanced[TARGET_NAME]\n",
    "\n",
    "X_train, X_test, y_train, y_test = train_test_split(X, y, shuffle=True, test_size=0.24, random_state=21)"
   ]
  },
  {
   "cell_type": "markdown",
   "metadata": {},
   "source": [
    "# Models"
   ]
  },
  {
   "cell_type": "code",
   "execution_count": 32,
   "metadata": {
    "scrolled": true
   },
   "outputs": [],
   "source": [
    "# Создаем датафрейм для создания ансамбля моделей.\n",
    "predict_one_level = pd.DataFrame(y_train.tolist(), columns=['target'])"
   ]
  },
  {
   "cell_type": "markdown",
   "metadata": {},
   "source": [
    "### LogRegression"
   ]
  },
  {
   "cell_type": "code",
   "execution_count": 33,
   "metadata": {},
   "outputs": [
    {
     "name": "stdout",
     "output_type": "stream",
     "text": [
      "TRAIN\n",
      "\n",
      "              precision    recall  f1-score   support\n",
      "\n",
      "           0       0.70      0.85      0.77      2495\n",
      "           1       0.81      0.64      0.71      2476\n",
      "\n",
      "   micro avg       0.74      0.74      0.74      4971\n",
      "   macro avg       0.76      0.74      0.74      4971\n",
      "weighted avg       0.76      0.74      0.74      4971\n",
      "\n",
      "TEST\n",
      "\n",
      "              precision    recall  f1-score   support\n",
      "\n",
      "           0       0.71      0.84      0.77       799\n",
      "           1       0.80      0.64      0.71       772\n",
      "\n",
      "   micro avg       0.75      0.75      0.75      1571\n",
      "   macro avg       0.75      0.74      0.74      1571\n",
      "weighted avg       0.75      0.75      0.74      1571\n",
      "\n",
      "CONFUSION MATRIX\n",
      "\n",
      "col_0             0    1\n",
      "Credit Default          \n",
      "0               674  125\n",
      "1               275  497\n"
     ]
    }
   ],
   "source": [
    "model_lr = LogisticRegression()\n",
    "model_lr.fit(X_train, y_train)\n",
    "\n",
    "y_train_pred = model_lr.predict(X_train)\n",
    "y_test_pred = model_lr.predict(X_test)\n",
    "\n",
    "get_classification_report(y_train, y_train_pred, y_test, y_test_pred)\n",
    "\n",
    "predict_one_level['model_lr'] = model_lr.predict(X_train)  \n",
    "predict_one_level_test = pd.DataFrame(model_lr.predict(df_test), columns=['model_lr'])"
   ]
  },
  {
   "cell_type": "code",
   "execution_count": 34,
   "metadata": {},
   "outputs": [
    {
     "name": "stdout",
     "output_type": "stream",
     "text": [
      "TRAIN\n",
      "\n",
      "              precision    recall  f1-score   support\n",
      "\n",
      "           0       0.79      0.83      0.81      2495\n",
      "           1       0.82      0.78      0.80      2476\n",
      "\n",
      "   micro avg       0.80      0.80      0.80      4971\n",
      "   macro avg       0.80      0.80      0.80      4971\n",
      "weighted avg       0.80      0.80      0.80      4971\n",
      "\n",
      "TEST\n",
      "\n",
      "              precision    recall  f1-score   support\n",
      "\n",
      "           0       0.72      0.72      0.72       799\n",
      "           1       0.71      0.72      0.71       772\n",
      "\n",
      "   micro avg       0.72      0.72      0.72      1571\n",
      "   macro avg       0.72      0.72      0.72      1571\n",
      "weighted avg       0.72      0.72      0.72      1571\n",
      "\n",
      "CONFUSION MATRIX\n",
      "\n",
      "col_0             0    1\n",
      "Credit Default          \n",
      "0               572  227\n",
      "1               218  554\n"
     ]
    }
   ],
   "source": [
    "model_knn = KNeighborsClassifier()\n",
    "model_knn.fit(X_train, y_train)\n",
    "\n",
    "y_train_pred = model_knn.predict(X_train)\n",
    "y_test_pred = model_knn.predict(X_test)\n",
    "\n",
    "get_classification_report(y_train, y_train_pred, y_test, y_test_pred)\n",
    "predict_one_level['model_knn'] = model_knn.predict(X_train)\n",
    "predict_one_level_test['model_knn'] = model_knn.predict(df_test)"
   ]
  },
  {
   "cell_type": "markdown",
   "metadata": {},
   "source": [
    "**Бустинговые алгоритмы**"
   ]
  },
  {
   "cell_type": "markdown",
   "metadata": {},
   "source": [
    "*XGBoost*"
   ]
  },
  {
   "cell_type": "code",
   "execution_count": 35,
   "metadata": {},
   "outputs": [
    {
     "name": "stdout",
     "output_type": "stream",
     "text": [
      "TRAIN\n",
      "\n",
      "              precision    recall  f1-score   support\n",
      "\n",
      "           0       0.74      0.89      0.81      2495\n",
      "           1       0.86      0.69      0.77      2476\n",
      "\n",
      "   micro avg       0.79      0.79      0.79      4971\n",
      "   macro avg       0.80      0.79      0.79      4971\n",
      "weighted avg       0.80      0.79      0.79      4971\n",
      "\n",
      "TEST\n",
      "\n",
      "              precision    recall  f1-score   support\n",
      "\n",
      "           0       0.73      0.85      0.79       799\n",
      "           1       0.82      0.68      0.74       772\n",
      "\n",
      "   micro avg       0.77      0.77      0.77      1571\n",
      "   macro avg       0.77      0.77      0.77      1571\n",
      "weighted avg       0.77      0.77      0.77      1571\n",
      "\n",
      "CONFUSION MATRIX\n",
      "\n",
      "col_0             0    1\n",
      "Credit Default          \n",
      "0               680  119\n",
      "1               246  526\n"
     ]
    }
   ],
   "source": [
    "model_xgb = xgb.XGBClassifier(random_state=21)\n",
    "model_xgb.fit(X_train, y_train)\n",
    "\n",
    "y_train_pred = model_xgb.predict(X_train)\n",
    "y_test_pred = model_xgb.predict(X_test)\n",
    "\n",
    "get_classification_report(y_train, y_train_pred, y_test, y_test_pred)\n",
    "\n",
    "predict_one_level['model_xgb'] = model_xgb.predict(X_train)\n",
    "predict_one_level_test['model_xgb'] = model_xgb.predict(df_test)"
   ]
  },
  {
   "cell_type": "markdown",
   "metadata": {},
   "source": [
    "*LightGBM*"
   ]
  },
  {
   "cell_type": "code",
   "execution_count": 36,
   "metadata": {},
   "outputs": [
    {
     "name": "stdout",
     "output_type": "stream",
     "text": [
      "TRAIN\n",
      "\n",
      "              precision    recall  f1-score   support\n",
      "\n",
      "           0       0.96      0.99      0.97      2495\n",
      "           1       0.99      0.96      0.97      2476\n",
      "\n",
      "   micro avg       0.97      0.97      0.97      4971\n",
      "   macro avg       0.97      0.97      0.97      4971\n",
      "weighted avg       0.97      0.97      0.97      4971\n",
      "\n",
      "TEST\n",
      "\n",
      "              precision    recall  f1-score   support\n",
      "\n",
      "           0       0.83      0.83      0.83       799\n",
      "           1       0.83      0.82      0.82       772\n",
      "\n",
      "   micro avg       0.83      0.83      0.83      1571\n",
      "   macro avg       0.83      0.83      0.83      1571\n",
      "weighted avg       0.83      0.83      0.83      1571\n",
      "\n",
      "CONFUSION MATRIX\n",
      "\n",
      "col_0             0    1\n",
      "Credit Default          \n",
      "0               665  134\n",
      "1               136  636\n"
     ]
    }
   ],
   "source": [
    "model_lgbm = lgbm.LGBMClassifier(random_state=21)\n",
    "model_lgbm.fit(X_train, y_train)\n",
    "\n",
    "y_train_pred = model_lgbm.predict(X_train)\n",
    "y_test_pred = model_lgbm.predict(X_test)\n",
    "\n",
    "get_classification_report(y_train, y_train_pred, y_test, y_test_pred)\n",
    "\n",
    "predict_one_level['model_lgbm'] = model_lgbm.predict(X_train)\n",
    "predict_one_level_test['model_lgbm'] = model_lgbm.predict(df_test)"
   ]
  },
  {
   "cell_type": "markdown",
   "metadata": {},
   "source": [
    "*CatBoost*"
   ]
  },
  {
   "cell_type": "code",
   "execution_count": 46,
   "metadata": {},
   "outputs": [],
   "source": [
    "model_catb1 =catb.CatBoostClassifier(silent=True, random_state=21)"
   ]
  },
  {
   "cell_type": "code",
   "execution_count": 47,
   "metadata": {
    "scrolled": false
   },
   "outputs": [
    {
     "name": "stdout",
     "output_type": "stream",
     "text": [
      "TRAIN\n",
      "\n",
      "              precision    recall  f1-score   support\n",
      "\n",
      "           0       0.83      0.93      0.88      2495\n",
      "           1       0.91      0.81      0.86      2476\n",
      "\n",
      "   micro avg       0.87      0.87      0.87      4971\n",
      "   macro avg       0.87      0.87      0.87      4971\n",
      "weighted avg       0.87      0.87      0.87      4971\n",
      "\n",
      "TEST\n",
      "\n",
      "              precision    recall  f1-score   support\n",
      "\n",
      "           0       0.78      0.84      0.81       799\n",
      "           1       0.82      0.75      0.78       772\n",
      "\n",
      "   micro avg       0.79      0.79      0.79      1571\n",
      "   macro avg       0.80      0.79      0.79      1571\n",
      "weighted avg       0.80      0.79      0.79      1571\n",
      "\n",
      "CONFUSION MATRIX\n",
      "\n",
      "col_0           0.0  1.0\n",
      "Credit Default          \n",
      "0               669  130\n",
      "1               193  579\n"
     ]
    }
   ],
   "source": [
    "model_catb1.fit(X_train, y_train)\n",
    "\n",
    "y_train_pred = model_catb1.predict(X_train)\n",
    "y_test_pred = model_catb1.predict(X_test)\n",
    "\n",
    "get_classification_report(y_train, y_train_pred, y_test, y_test_pred)\n",
    "predict_one_level['model_catb'] = model_catb1.predict(X_train)\n",
    "predict_one_level_test['model_catb'] = model_catb1.predict(df_test)"
   ]
  },
  {
   "cell_type": "code",
   "execution_count": 48,
   "metadata": {},
   "outputs": [
    {
     "data": {
      "text/plain": [
       "LinearRegression(copy_X=True, fit_intercept=True, n_jobs=-1, normalize=False)"
      ]
     },
     "execution_count": 48,
     "metadata": {},
     "output_type": "execute_result"
    }
   ],
   "source": [
    "# Посторим модель обучения, основанная на ансамбле алгоритмов\n",
    "from sklearn.linear_model import LinearRegression\n",
    "meta_model = LinearRegression(n_jobs=-1)\n",
    "meta_model.fit(predict_one_level.drop('target', axis=1), predict_one_level['target'])"
   ]
  },
  {
   "cell_type": "code",
   "execution_count": 49,
   "metadata": {},
   "outputs": [],
   "source": [
    "final_predictions = meta_model.predict(predict_one_level_test)"
   ]
  },
  {
   "cell_type": "markdown",
   "metadata": {},
   "source": [
    "### Применение модели на тестовую выборку"
   ]
  },
  {
   "cell_type": "code",
   "execution_count": 54,
   "metadata": {},
   "outputs": [],
   "source": [
    "submission = pd.DataFrame({'Id':np.arange(7500, 7500+2500), 'Credit Default': final_predictions})"
   ]
  },
  {
   "cell_type": "code",
   "execution_count": 56,
   "metadata": {
    "scrolled": true
   },
   "outputs": [],
   "source": [
    "submission['Credit Default'] = [True if i>0.5 else False for i in submission['Credit Default']]"
   ]
  },
  {
   "cell_type": "code",
   "execution_count": 52,
   "metadata": {},
   "outputs": [],
   "source": [
    "submission.to_csv('out_test/pred_test_v09.csv', index = False)"
   ]
  },
  {
   "cell_type": "code",
   "execution_count": null,
   "metadata": {},
   "outputs": [],
   "source": []
  }
 ],
 "metadata": {
  "kernelspec": {
   "display_name": "Python 3",
   "language": "python",
   "name": "python3"
  },
  "language_info": {
   "codemirror_mode": {
    "name": "ipython",
    "version": 3
   },
   "file_extension": ".py",
   "mimetype": "text/x-python",
   "name": "python",
   "nbconvert_exporter": "python",
   "pygments_lexer": "ipython3",
   "version": "3.7.1"
  }
 },
 "nbformat": 4,
 "nbformat_minor": 2
}
